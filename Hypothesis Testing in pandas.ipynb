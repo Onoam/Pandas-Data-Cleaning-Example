{
 "cells": [
  {
   "cell_type": "code",
   "execution_count": 1,
   "metadata": {
    "collapsed": true
   },
   "outputs": [],
   "source": [
    "import pandas as pd\n",
    "import numpy as np\n",
    "from scipy.stats import ttest_ind"
   ]
  },
  {
   "cell_type": "markdown",
   "metadata": {},
   "source": [
    "# Hypothesis Testing\n",
    "\n",
    "\n",
    "Definitions:\n",
    "* A _quarter_ is a specific three month period, Q1 is January through March, Q2 is April through June, Q3 is July through September, Q4 is October through December.\n",
    "* A _recession_ is defined as starting with two consecutive quarters of GDP decline, and ending with two consecutive quarters of GDP growth.\n",
    "* A _recession bottom_ is the quarter within a recession which had the lowest GDP.\n",
    "* A _university town_ is a city which has a high percentage of university students compared to the total population of the city.\n",
    "\n",
    "**Hypothesis**: University towns have their mean housing prices less effected by recessions. Run a t-test to compare the ratio of the mean price of houses in university towns the quarter before the recession starts compared to the recession bottom. (`price_ratio=quarter_before_recession/recession_bottom`)\n",
    "\n",
    "The following data files are available:\n",
    "* From the [Zillow research data site](http://www.zillow.com/research/data/) there is housing data for the United States. In particular the datafile for [all homes at a city level](http://files.zillowstatic.com/research/public/City/City_Zhvi_AllHomes.csv), ```City_Zhvi_AllHomes.csv```, has median home sale prices at a fine grained level.\n",
    "* From the Wikipedia page on college towns is a list of [university towns in the United States](https://en.wikipedia.org/wiki/List_of_college_towns#College_towns_in_the_United_States) which has been copy and pasted into the file ```university_towns.txt```.\n",
    "* From Bureau of Economic Analysis, US Department of Commerce, the [GDP over time](http://www.bea.gov/national/index.htm#gdp) of the United States in current dollars (use the chained value in 2009 dollars), in quarterly intervals, in the file ```gdplev.xls```. For this assignment, only look at GDP data from the first quarter of 2000 onward.\n",
    "\n",
    "Each function in this assignment below is worth 10%, with the exception of ```run_ttest()```, which is worth 50%."
   ]
  },
  {
   "cell_type": "code",
   "execution_count": 2,
   "metadata": {
    "collapsed": true
   },
   "outputs": [],
   "source": [
    "# Use this dictionary to map state names to two letter acronyms\n",
    "states = {'OH': 'Ohio', 'KY': 'Kentucky', 'AS': 'American Samoa', 'NV': 'Nevada', 'WY': 'Wyoming', 'NA': 'National', 'AL': 'Alabama', 'MD': 'Maryland', 'AK': 'Alaska', 'UT': 'Utah', 'OR': 'Oregon', 'MT': 'Montana', 'IL': 'Illinois', 'TN': 'Tennessee', 'DC': 'District of Columbia', 'VT': 'Vermont', 'ID': 'Idaho', 'AR': 'Arkansas', 'ME': 'Maine', 'WA': 'Washington', 'HI': 'Hawaii', 'WI': 'Wisconsin', 'MI': 'Michigan', 'IN': 'Indiana', 'NJ': 'New Jersey', 'AZ': 'Arizona', 'GU': 'Guam', 'MS': 'Mississippi', 'PR': 'Puerto Rico', 'NC': 'North Carolina', 'TX': 'Texas', 'SD': 'South Dakota', 'MP': 'Northern Mariana Islands', 'IA': 'Iowa', 'MO': 'Missouri', 'CT': 'Connecticut', 'WV': 'West Virginia', 'SC': 'South Carolina', 'LA': 'Louisiana', 'KS': 'Kansas', 'NY': 'New York', 'NE': 'Nebraska', 'OK': 'Oklahoma', 'FL': 'Florida', 'CA': 'California', 'CO': 'Colorado', 'PA': 'Pennsylvania', 'DE': 'Delaware', 'NM': 'New Mexico', 'RI': 'Rhode Island', 'MN': 'Minnesota', 'VI': 'Virgin Islands', 'NH': 'New Hampshire', 'MA': 'Massachusetts', 'GA': 'Georgia', 'ND': 'North Dakota', 'VA': 'Virginia'}"
   ]
  },
  {
   "cell_type": "code",
   "execution_count": 3,
   "metadata": {
    "collapsed": true
   },
   "outputs": [],
   "source": [
    "def get_list_of_university_towns():\n",
    "    '''Returns a DataFrame of towns and the states they are in from the \n",
    "    university_towns.txt list. The format of the DataFrame should be:\n",
    "    DataFrame( [ [\"Michigan\", \"Ann Arbor\"], [\"Michigan\", \"Yipsilanti\"] ], \n",
    "    columns=[\"State\", \"RegionName\"]  )\n",
    "    \n",
    "    The following cleaning needs to be done:\n",
    "\n",
    "    1. For \"State\", removing characters from \"[\" to the end.\n",
    "    2. For \"RegionName\", when applicable, removing every character from \" (\" to the end.\n",
    "    3. Depending on how you read the data, you may need to remove newline character '\\n'. '''\n",
    "    f = open('university_towns.txt', 'r').read()\n",
    "    citystates = []\n",
    "    currstate = ''\n",
    "    for line in f.splitlines():\n",
    "        if '[ed' in line:\n",
    "            state = line.split('[')[0].strip()\n",
    "        else:\n",
    "            city = line.split(\"(\")[0].strip()\n",
    "            citystates.append([state, city])\n",
    "    df = pd.DataFrame(citystates, columns = [\"State\", \"RegionName\"])\n",
    "    return df.copy()"
   ]
  },
  {
   "cell_type": "code",
   "execution_count": 4,
   "metadata": {
    "collapsed": true
   },
   "outputs": [],
   "source": [
    "def get_housing_df():\n",
    "    \"\"\" NOT FOR EVALUATION \"\"\"\n",
    "    df = pd.read_csv('City_Zhvi_AllHomes.csv')\n",
    "    return df.copy()\n"
   ]
  },
  {
   "cell_type": "code",
   "execution_count": 5,
   "metadata": {
    "collapsed": true
   },
   "outputs": [],
   "source": [
    "def get_gdp():\n",
    "    \"\"\" NOT FOR EVALUATION \"\"\"\n",
    "    df = pd.read_excel('gdplev.xls')\n",
    "    df = df[[df.columns[4], df.columns[6]]]\n",
    "    df.columns = ['Quarter', 'GDP']\n",
    "    ind = df[df['Quarter'] == '2000q1'].index[0]\n",
    "    df = df[df.index >= ind]\n",
    "    df.reset_index(drop=True, inplace=True)\n",
    "    return df.copy()"
   ]
  },
  {
   "cell_type": "code",
   "execution_count": 6,
   "metadata": {
    "collapsed": true
   },
   "outputs": [],
   "source": [
    "def get_recession_start():\n",
    "    '''Returns the year and quarter of the recession start time as a \n",
    "    string value in a format such as 2005q3'''\n",
    "    gdp = get_gdp()\n",
    "    #gdp['Next'] = gdp['GDP'].shift(-1)\n",
    "    #gdp['2Next'] = gdp[\"GDP\"].shift(-2)\n",
    "    gdp[\"RecessionStart\"] = ((gdp['GDP'] < gdp['GDP'].shift(1)) & \n",
    "                             (gdp[\"GDP\"] > gdp[\"GDP\"].shift(-1)))\n",
    "    return gdp[gdp['RecessionStart']].iloc[0][\"Quarter\"]\n"
   ]
  },
  {
   "cell_type": "code",
   "execution_count": 7,
   "metadata": {
    "collapsed": true
   },
   "outputs": [],
   "source": [
    "def get_recession_end():\n",
    "    '''Returns the year and quarter of the recession end time as a \n",
    "    string value in a format such as 2005q3'''\n",
    "    gdp = get_gdp()\n",
    "    RecessionEnd = ((gdp[\"GDP\"] > gdp[\"GDP\"].shift(1)) &\n",
    "                           (gdp[\"GDP\"].shift(1) > gdp[\"GDP\"].shift(2)))\n",
    "    return gdp[RecessionEnd & (gdp[\"Quarter\"] > get_recession_start())].iloc[0][\"Quarter\"]"
   ]
  },
  {
   "cell_type": "code",
   "execution_count": 8,
   "metadata": {
    "collapsed": true
   },
   "outputs": [],
   "source": [
    "def get_recession_bottom():\n",
    "    '''Returns the year and quarter of the recession bottom time as a \n",
    "    string value in a format such as 2005q3'''\n",
    "    gdp = get_gdp()\n",
    "    rec = gdp[(get_recession_start() <= gdp[\"Quarter\"]) & (gdp[\"Quarter\"] <= get_recession_end())]\n",
    "    return gdp.iloc[rec[\"GDP\"].argmin()].loc[\"Quarter\"]"
   ]
  },
  {
   "cell_type": "code",
   "execution_count": 9,
   "metadata": {
    "collapsed": true
   },
   "outputs": [],
   "source": [
    "def convert_housing_data_to_quarters():\n",
    "    '''Converts the housing data to quarters and returns it as mean \n",
    "    values in a dataframe. This dataframe should be a dataframe with\n",
    "    columns for 2000q1 through 2016q3, and should have a multi-index\n",
    "    in the shape of [\"State\",\"RegionName\"].\n",
    "    \n",
    "    Note: Quarters are defined in the assignment description, they are\n",
    "    not arbitrary three month periods.\n",
    "    \n",
    "    The resulting dataframe should have 67 columns, and 10,730 rows.\n",
    "    '''\n",
    "    housing = get_housing_df()\n",
    "    columns_to_keep = ['20{:02d}-{:02d}'.format(i, j) for i in range(17) for j in range(1,13)]\n",
    "    columns_to_keep = columns_to_keep[:columns_to_keep.index('2016-08')+1]\n",
    "    housing[\"State\"] = housing[\"State\"].apply(func=lambda x: states[x])\n",
    "    housing.set_index(['State', \"RegionName\"], inplace=True)\n",
    "    housing = housing[columns_to_keep]\n",
    "    housing.columns = housing.columns.to_datetime()\n",
    "    housing = housing.resample('Q', axis=1).mean()\n",
    "    housing.columns = ['20{:02d}q{}'.format(i, j) for i in range(17) for j in range(1,5)][:-1]\n",
    "    return housing.copy()\n"
   ]
  },
  {
   "cell_type": "code",
   "execution_count": 19,
   "metadata": {
    "collapsed": true
   },
   "outputs": [],
   "source": [
    "def merge_housing_and_university_dfs():\n",
    "    housing = convert_housing_data_to_quarters()\n",
    "    uni = get_list_of_university_towns()\n",
    "    uni['isunitown'] = True\n",
    "    start, bottom, end = get_recession_start(), get_recession_bottom(), get_recession_end()\n",
    "    housing[\"Drop\"] = housing.iloc[:, housing.columns.get_loc(start)-1].div(housing[bottom])\n",
    "    merged = pd.merge(housing, uni, left_index=True, right_on=[\"State\", \"RegionName\"], how=\"left\")\n",
    "    merged['isunitown'].fillna(value=False, inplace=True)\n",
    "    merged.set_index(['State', 'RegionName'], inplace=True)\n",
    "    return merged.copy()\n",
    "\n",
    "#housing[[start, bottom, 'Drop']]\n",
    "#start, bottom, end = get_recession_start(), get_recession_bottom(), get_recession_end()\n",
    "#housing.columns[housing.columns.slice_indexer(start=start, end=bottom)]\n",
    "#housing.columns[start:bottom]\n",
    "#housing.ix[:, start:bottom]\n",
    "#decrease = hou"
   ]
  },
  {
   "cell_type": "code",
   "execution_count": 28,
   "metadata": {},
   "outputs": [
    {
     "name": "stderr",
     "output_type": "stream",
     "text": [
      "/opt/conda/lib/python3.5/site-packages/ipykernel/__main__.py:22: DeprecationWarning: using a boolean instead of an integer will result in an error in the future\n"
     ]
    },
    {
     "data": {
      "text/plain": [
       "(True, 0.0027240637047531249, 'university town')"
      ]
     },
     "execution_count": 28,
     "metadata": {},
     "output_type": "execute_result"
    }
   ],
   "source": [
    "def run_ttest():\n",
    "    '''First creates new data showing the decline or growth of housing prices\n",
    "    between the recession start and the recession bottom. Then runs a ttest\n",
    "    comparing the university town values to the non-university towns values, \n",
    "    return whether the alternative hypothesis (that the two groups are the same)\n",
    "    is true or not as well as the p-value of the confidence. \n",
    "    \n",
    "    Return the tuple (different, p, better) where different=True if the t-test is\n",
    "    True at a p<0.01 (we reject the null hypothesis), or different=False if \n",
    "    otherwise (we cannot reject the null hypothesis). The variable p should\n",
    "    be equal to the exact p value returned from scipy.stats.ttest_ind(). The\n",
    "    value for better should be either \"university town\" or \"non-university town\"\n",
    "    depending on which has a lower mean price ratio (which is equivilent to a\n",
    "    reduced market loss).'''\n",
    "    \n",
    "    housing = merge_housing_and_university_dfs()\n",
    "    uni_drop = housing[housing['isunitown']]['Drop']\n",
    "    non_uni_drop = housing[~housing['isunitown']]['Drop']\n",
    "    ttest = ttest_ind(uni_drop, non_uni_drop, nan_policy=\"omit\")\n",
    "    different = ttest.pvalue < 0.01\n",
    "    p = ttest.pvalue\n",
    "    better = \"non-\"*(ttest.statistic > 0) +'university town'\n",
    "    return different, p, better\n"
   ]
  }
 ],
 "metadata": {
  "coursera": {
   "course_slug": "python-data-analysis",
   "graded_item_id": "Il9Fx",
   "launcher_item_id": "TeDW0",
   "part_id": "WGlun"
  },
  "kernelspec": {
   "display_name": "Python 3",
   "language": "python",
   "name": "python3"
  },
  "language_info": {
   "codemirror_mode": {
    "name": "ipython",
    "version": 3
   },
   "file_extension": ".py",
   "mimetype": "text/x-python",
   "name": "python",
   "nbconvert_exporter": "python",
   "pygments_lexer": "ipython3",
   "version": "3.6.1"
  }
 },
 "nbformat": 4,
 "nbformat_minor": 1
}
